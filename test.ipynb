{
 "cells": [
  {
   "cell_type": "code",
   "execution_count": 54,
   "metadata": {},
   "outputs": [
    {
     "data": {
      "text/plain": [
       "acci"
      ]
     },
     "metadata": {},
     "output_type": "display_data"
    }
   ],
   "source": [
    "include(\"init.jl\")"
   ]
  },
  {
   "cell_type": "code",
   "execution_count": 55,
   "metadata": {},
   "outputs": [
    {
     "data": {
      "text/plain": [
       "Dict{String, Any} with 20 entries:\n",
       "  \"totalInitialMargin\"          => \"2.05704233\"\n",
       "  \"totalPositionInitialMargin\"  => \"2.05704233\"\n",
       "  \"updateTime\"                  => 0\n",
       "  \"positions\"                   => Any[Dict{String, Any}(\"askNotional\"=>\"0\", \"u…\n",
       "  \"tradeGroupId\"                => -1\n",
       "  \"totalCrossUnPnl\"             => \"0.00000000\"\n",
       "  \"canDeposit\"                  => true\n",
       "  \"feeTier\"                     => 0\n",
       "  \"totalWalletBalance\"          => \"2.05805385\"\n",
       "  \"canWithdraw\"                 => true\n",
       "  \"multiAssetsMargin\"           => false\n",
       "  \"totalOpenOrderInitialMargin\" => \"0.00000000\"\n",
       "  \"totalMaintMargin\"            => \"0.41140846\"\n",
       "  \"totalMarginBalance\"          => \"2.01931514\"\n",
       "  \"totalCrossWalletBalance\"     => \"0.00913737\"\n",
       "  \"availableBalance\"            => \"0.00913737\"\n",
       "  \"maxWithdrawAmount\"           => \"0.00913737\"\n",
       "  \"assets\"                      => Any[Dict{String, Any}(\"marginAvailable\"=>tru…\n",
       "  \"totalUnrealizedProfit\"       => \"-0.03873871\"\n",
       "  \"canTrade\"                    => true"
      ]
     },
     "metadata": {},
     "output_type": "display_data"
    }
   ],
   "source": [
    "user = User(\"api_key.json\");\n",
    "account_info = get_account_info(user)"
   ]
  },
  {
   "cell_type": "code",
   "execution_count": 56,
   "metadata": {},
   "outputs": [
    {
     "data": {
      "text/plain": [
       "\"CYBERUSDT\""
      ]
     },
     "metadata": {},
     "output_type": "display_data"
    }
   ],
   "source": [
    "coin_pair = \"CYBERUSDT\""
   ]
  },
  {
   "cell_type": "code",
   "execution_count": 69,
   "metadata": {},
   "outputs": [
    {
     "data": {
      "text/plain": [
       "Dict{String, Any} with 16 entries:\n",
       "  \"isolatedMargin\"   => \"1.79174551\"\n",
       "  \"updateTime\"       => 1694498107011\n",
       "  \"maxNotionalValue\" => \"5000\"\n",
       "  \"liquidationPrice\" => \"5.81164956\"\n",
       "  \"breakEvenPrice\"   => \"5.2949408\"\n",
       "  \"marginType\"       => \"isolated\"\n",
       "  \"notional\"         => \"-16.67477097\"\n",
       "  \"isAutoAddMargin\"  => \"false\"\n",
       "  \"symbol\"           => \"CYBERUSDT\"\n",
       "  \"positionAmt\"      => \"-3.1\"\n",
       "  \"positionSide\"     => \"SHORT\"\n",
       "  \"markPrice\"        => \"5.37895838\"\n",
       "  \"entryPrice\"       => \"5.296\"\n",
       "  \"leverage\"         => \"8\"\n",
       "  \"unRealizedProfit\" => \"-0.25717097\"\n",
       "  \"isolatedWallet\"   => \"2.04891648\""
      ]
     },
     "metadata": {},
     "output_type": "display_data"
    }
   ],
   "source": [
    "position = get_current_position(user, coin_pair)[1]"
   ]
  },
  {
   "cell_type": "code",
   "execution_count": 73,
   "metadata": {},
   "outputs": [
    {
     "data": {
      "text/plain": [
       "\"SHORT\""
      ]
     },
     "metadata": {},
     "output_type": "display_data"
    }
   ],
   "source": [
    "position[\"positionSide\"]"
   ]
  },
  {
   "cell_type": "code",
   "execution_count": 71,
   "metadata": {},
   "outputs": [
    {
     "data": {
      "text/plain": [
       "5.296"
      ]
     },
     "metadata": {},
     "output_type": "display_data"
    }
   ],
   "source": [
    "parse(Float64,position[\"entryPrice\"])"
   ]
  },
  {
   "cell_type": "code",
   "execution_count": 72,
   "metadata": {},
   "outputs": [
    {
     "data": {
      "text/plain": [
       "3.1"
      ]
     },
     "metadata": {},
     "output_type": "display_data"
    }
   ],
   "source": [
    "\n",
    "\n"
   ]
  },
  {
   "cell_type": "code",
   "execution_count": null,
   "metadata": {},
   "outputs": [],
   "source": []
  },
  {
   "cell_type": "code",
   "execution_count": null,
   "metadata": {},
   "outputs": [],
   "source": [
    "_long_or_short = position[\"positionSide\"]\n",
    "_stop_order_side = (_long_or_short == \"LONG\" ? \"SELL\" : \"BUY\")\n",
    "_open_price = parse(Float64, position[\"entryPrice\"])\n",
    "\n",
    "_profit_price = round(cal_profit_price(long_or_short, _open_price, $profit_pct), digits=$price_precision)\n",
    "_quantity = abs(parse(Float64, position[\"positionAmt\"]))\n",
    "\n",
    "create_profit_order_dict(coin_pair[], _long_or_short, _quantity, _profit_price, _long_or_short)"
   ]
  },
  {
   "cell_type": "code",
   "execution_count": 23,
   "metadata": {},
   "outputs": [
    {
     "data": {
      "text/plain": [
       "Dict{String, Any} with 25 entries:\n",
       "  \"orderTypes\"         => Any[\"LIMIT\", \"MARKET\", \"STOP\", \"STOP_MARKET\", \"TAKE_P…\n",
       "  \"timeInForce\"        => Any[\"GTC\", \"IOC\", \"FOK\", \"GTX\", \"GTD\"]\n",
       "  \"deliveryDate\"       => 4133404800000\n",
       "  \"marginAsset\"        => \"USDT\"\n",
       "  \"triggerProtect\"     => \"0.1000\"\n",
       "  \"contractType\"       => \"PERPETUAL\"\n",
       "  \"underlyingSubType\"  => Any[\"Infrastructure\"]\n",
       "  \"underlyingType\"     => \"COIN\"\n",
       "  \"baseAssetPrecision\" => 8\n",
       "  \"quoteAsset\"         => \"USDT\"\n",
       "  \"maxMoveOrderLimit\"  => 10000\n",
       "  \"pair\"               => \"GALUSDT\"\n",
       "  \"status\"             => \"TRADING\"\n",
       "  \"liquidationFee\"     => \"0.015000\"\n",
       "  \"quantityPrecision\"  => 0\n",
       "  \"pricePrecision\"     => 5\n",
       "  \"symbol\"             => \"GALUSDT\"\n",
       "  \"onboardDate\"        => 1651734000000\n",
       "  \"marketTakeBound\"    => \"0.10\"\n",
       "  ⋮                    => ⋮"
      ]
     },
     "metadata": {},
     "output_type": "display_data"
    }
   ],
   "source": [
    "symbol = coin_pair\n",
    "symbol_info = filter(x -> x[\"symbol\"] == symbol, get_Binance_info()[\"symbols\"])[1]"
   ]
  },
  {
   "cell_type": "code",
   "execution_count": 28,
   "metadata": {},
   "outputs": [
    {
     "data": {
      "text/plain": [
       "7-element Vector{Any}:\n",
       " Dict{String, Any}(\"filterType\" => \"PRICE_FILTER\", \"maxPrice\" => \"10000.00000\", \"minPrice\" => \"0.00010\", \"tickSize\" => \"0.00010\")\n",
       " Dict{String, Any}(\"filterType\" => \"LOT_SIZE\", \"minQty\" => \"1\", \"maxQty\" => \"10000000\", \"stepSize\" => \"1\")\n",
       " Dict{String, Any}(\"filterType\" => \"MARKET_LOT_SIZE\", \"minQty\" => \"1\", \"maxQty\" => \"15040\", \"stepSize\" => \"1\")\n",
       " Dict{String, Any}(\"filterType\" => \"MAX_NUM_ORDERS\", \"limit\" => 200)\n",
       " Dict{String, Any}(\"filterType\" => \"MAX_NUM_ALGO_ORDERS\", \"limit\" => 10)\n",
       " Dict{String, Any}(\"filterType\" => \"MIN_NOTIONAL\", \"notional\" => \"5\")\n",
       " Dict{String, Any}(\"multiplierDown\" => \"0.9000\", \"multiplierUp\" => \"1.1000\", \"filterType\" => \"PERCENT_PRICE\", \"multiplierDecimal\" => \"4\")"
      ]
     },
     "metadata": {},
     "output_type": "display_data"
    }
   ],
   "source": [
    "symbol_info[\"filters\"]"
   ]
  },
  {
   "cell_type": "code",
   "execution_count": 50,
   "metadata": {},
   "outputs": [
    {
     "name": "stdout",
     "output_type": "stream",
     "text": [
      "0.00010\n",
      "1\n"
     ]
    }
   ],
   "source": [
    "for item in symbol_info[\"filters\"]\n",
    "    if item[\"filterType\"] == \"PRICE_FILTER\"\n",
    "        println(item[\"tickSize\"])\n",
    "    end \n",
    "\n",
    "    if item[\"filterType\"] == \"LOT_SIZE\"\n",
    "        println(item[\"stepSize\"])\n",
    "    end\n",
    "end"
   ]
  },
  {
   "cell_type": "code",
   "execution_count": null,
   "metadata": {},
   "outputs": [],
   "source": [
    "symbol_info[\"filters\"]"
   ]
  },
  {
   "cell_type": "code",
   "execution_count": 47,
   "metadata": {},
   "outputs": [
    {
     "data": {
      "text/plain": [
       "1"
      ]
     },
     "metadata": {},
     "output_type": "display_data"
    }
   ],
   "source": [
    "stepSize"
   ]
  },
  {
   "cell_type": "code",
   "execution_count": 53,
   "metadata": {},
   "outputs": [
    {
     "data": {
      "text/plain": [
       "0.1"
      ]
     },
     "metadata": {},
     "output_type": "display_data"
    }
   ],
   "source": [
    "parse(Float64,\"0.1\")"
   ]
  },
  {
   "cell_type": "code",
   "execution_count": 51,
   "metadata": {},
   "outputs": [
    {
     "data": {
      "text/plain": [
       "10.0"
      ]
     },
     "metadata": {},
     "output_type": "display_data"
    }
   ],
   "source": [
    "floor(13.255, digits=-1)"
   ]
  },
  {
   "cell_type": "code",
   "execution_count": null,
   "metadata": {},
   "outputs": [],
   "source": [
    "round(0.113555, digits=)"
   ]
  },
  {
   "cell_type": "code",
   "execution_count": 24,
   "metadata": {},
   "outputs": [
    {
     "name": "stdout",
     "output_type": "stream",
     "text": [
      "Dict{String, Any}(\"orderTypes\" => Any"
     ]
    },
    {
     "name": "stdout",
     "output_type": "stream",
     "text": [
      "[\"LIMIT\", \"MARKET\", \"STOP\", \"STOP_MARKET\", \"TAKE_PROFIT\", \"TAKE_PROFIT_MARKET\", \"TRAILING_STOP_MARKET\"], \"timeInForce\" => Any[\"GTC\", \"IOC\", \"FOK\", \"GTX\", \"GTD\"], \"deliveryDate\" => 4133404800000, \"marginAsset\" => \"USDT\", \"triggerProtect\" => \"0.1000\", \"contractType\" => \"PERPETUAL\", \"underlyingSubType\" => Any[\"Infrastructure\"], \"underlyingType\" => \"COIN\", \"baseAssetPrecision\" => 8, \"quoteAsset\" => \"USDT\", \"maxMoveOrderLimit\" => 10000, \"pair\" => \"GALUSDT\", \"status\" => \"TRADING\", \"liquidationFee\" => \"0.015000\", \"quantityPrecision\" => 0, \"pricePrecision\" => 5, \"symbol\" => \"GALUSDT\", \"onboardDate\" => 1651734000000, \"marketTakeBound\" => \"0.10\", \"filters\" => Any[Dict{String, Any}(\"filterType\" => \"PRICE_FILTER\", \"maxPrice\" => \"10000.00000\", \"minPrice\" => \"0.00010\", \"tickSize\" => \"0.00010\"), Dict{String, Any}(\"filterType\" => \"LOT_SIZE\", \"minQty\" => \"1\", \"maxQty\" => \"10000000\", \"stepSize\" => \"1\"), Dict{String, Any}(\"filterType\" => \"MARKET_LOT_SIZE\", \"minQty\" => \"1\", \"maxQty\" => \"15040\", \"stepSize\" => \"1\"), Dict{String, Any}(\"filterType\" => \"MAX_NUM_ORDERS\", \"limit\" => 200), Dict{String, Any}(\"filterType\" => \"MAX_NUM_ALGO_ORDERS\", \"limit\" => 10), Dict{String, Any}(\"filterType\" => \"MIN_NOTIONAL\", \"notional\" => \"5\"), Dict{String, Any}(\"multiplierDown\" => \"0.9000\", \"multiplierUp\" => \"1.1000\", \"filterType\" => \"PERCENT_PRICE\", \"multiplierDecimal\" => \"4\")], \"baseAsset\" => \"GAL\", \"settlePlan\" => 0, \"quotePrecision\" => 8, \"requiredMarginPercent\" => \"5.0000\", \"maintMarginPercent\" => \"2.5000\")"
     ]
    }
   ],
   "source": [
    "print(symbol_info)"
   ]
  },
  {
   "cell_type": "code",
   "execution_count": 17,
   "metadata": {},
   "outputs": [
    {
     "data": {
      "text/plain": [
       "13.22"
      ]
     },
     "metadata": {},
     "output_type": "display_data"
    }
   ],
   "source": [
    "round(13.222, digits=2)"
   ]
  },
  {
   "cell_type": "code",
   "execution_count": 10,
   "metadata": {},
   "outputs": [
    {
     "data": {
      "text/plain": [
       "3.6666666666666665"
      ]
     },
     "metadata": {},
     "output_type": "display_data"
    }
   ],
   "source": [
    "times = [6, 2, 6, 1, 4, 3]\n",
    "\n",
    "sum(times)/6"
   ]
  },
  {
   "cell_type": "code",
   "execution_count": 19,
   "metadata": {},
   "outputs": [
    {
     "data": {
      "text/plain": [
       "0.9"
      ]
     },
     "metadata": {},
     "output_type": "display_data"
    }
   ],
   "source": [
    "floor(0.91, digits=1)"
   ]
  },
  {
   "cell_type": "code",
   "execution_count": 1,
   "metadata": {},
   "outputs": [],
   "source": [
    "# # The process\n",
    "# 0. Learn about `Observable`s\n",
    "# 1. Initialize simulation in a stepping manner\n",
    "# 2. Initialize the `Observable`s of the animation \n",
    "# 3. Plot the `Observable`s and any other static elements\n",
    "# 4. Create the \"animation stepping function\"\n",
    "# 5. Test it\n",
    "# 6. Save animations to videos\n",
    "# 7. Interactive application\n",
    "\n",
    "# Let's start!\n",
    "# Load packages that will be used\n",
    "using DynamicalSystems, OrdinaryDiffEq, GLMakie, Makie\n",
    "using DataStructures: CircularBuffer\n"
   ]
  },
  {
   "cell_type": "code",
   "execution_count": 2,
   "metadata": {},
   "outputs": [
    {
     "data": {
      "text/plain": [
       "(::Observables.ObserverFunction) (generic function with 0 methods)"
      ]
     },
     "metadata": {},
     "output_type": "display_data"
    }
   ],
   "source": [
    "# %% 0. Learn about `Observable`s\n",
    "# An `Observable` is a mutable container of an object of type `T`.\n",
    "# `T` can be any type. The value of an `Observable` can then be \n",
    "# changed on the spot, just like updating any mutable container.\n",
    "# (This is similar to the base structure `Ref`, if you're familiar)\n",
    "\n",
    "# The important part here is that `Observable`s can be \"listened\" to.\n",
    "# What does this mean...?\n",
    "\n",
    "o = Observable(1) # Observable with values of type `Int`\n",
    "\n",
    "l1 = on(o) do val # Create a listener `l1` of observable.\n",
    "    println(\"Observable now has value $val\")\n",
    "end\n",
    "# `l1` is triggered each time the value of `o` is updated.\n",
    "# (demo in REPL, set `o[] = 2`.)"
   ]
  },
  {
   "cell_type": "code",
   "execution_count": 3,
   "metadata": {},
   "outputs": [
    {
     "name": "stdout",
     "output_type": "stream",
     "text": [
      "Observable now has value 2\n",
      "Observable now has value 1\n"
     ]
    },
    {
     "data": {
      "text/plain": [
       "1"
      ]
     },
     "metadata": {},
     "output_type": "display_data"
    }
   ],
   "source": [
    "o[] = 2\n",
    "o[] = 1"
   ]
  },
  {
   "cell_type": "code",
   "execution_count": 4,
   "metadata": {},
   "outputs": [
    {
     "data": {
      "text/plain": [
       "Observable{Int64} with 0 listeners. Value:\n",
       "2"
      ]
     },
     "metadata": {},
     "output_type": "display_data"
    }
   ],
   "source": [
    "# We care about `Observable`s because Makie.jl is hooked up\n",
    "# to this \"listener\" system. If any plotted element is\n",
    "# initialized as an observable, then Makie.jl understands this.\n",
    "# Updating the observable would update the plot values.\n",
    "\n",
    "# For example:\n",
    "ox = 1:4\n",
    "oy = Observable(rand(4))\n",
    "lw = Observable(2)\n"
   ]
  },
  {
   "cell_type": "code",
   "execution_count": 5,
   "metadata": {},
   "outputs": [
    {
     "ename": "UndefVarError",
     "evalue": "UndefVarError: Point3f not defined",
     "output_type": "error",
     "traceback": [
      "UndefVarError: Point3f not defined\n",
      "\n",
      "Stacktrace:\n",
      " [1] top-level scope\n",
      "   @ ~/projects/working/stock/binance_gui/test.ipynb:25"
     ]
    }
   ],
   "source": [
    "using GLMakie # All functionality is defined in Makie and every backend re-exports Makie\n",
    "\n",
    "Base.@kwdef mutable struct Lorenz\n",
    "    dt::Float64 = 0.01\n",
    "    σ::Float64 = 10\n",
    "    ρ::Float64 = 28\n",
    "    β::Float64 = 8/3\n",
    "    x::Float64 = 1\n",
    "    y::Float64 = 1\n",
    "    z::Float64 = 1\n",
    "end\n",
    "\n",
    "function step!(l::Lorenz)\n",
    "    dx = l.σ * (l.y - l.x)\n",
    "    dy = l.x * (l.ρ - l.z) - l.y\n",
    "    dz = l.x * l.y - l.β * l.z\n",
    "    l.x += l.dt * dx\n",
    "    l.y += l.dt * dy\n",
    "    l.z += l.dt * dz\n",
    "    Point3f(l.x, l.y, l.z)\n",
    "end\n",
    "\n",
    "attractor = Lorenz()\n",
    "\n",
    "points = Observable(Point3f[]) # Signal that can be used to update plots efficiently\n",
    "colors = Observable(Int[])\n",
    "\n",
    "set_theme!(theme_black())\n",
    "\n",
    "fig, ax, l = lines(points, color = colors,\n",
    "    colormap = :inferno, transparency = true, \n",
    "    axis = (; type = Axis3, protrusions = (0, 0, 0, 0), \n",
    "              viewmode = :fit, limits = (-30, 30, -30, 30, 0, 50)))\n",
    "\n",
    "record(fig, \"lorenz.mp4\", 1:120) do frame\n",
    "    for i in 1:50\n",
    "        # update arrays inplace\n",
    "        push!(points[], step!(attractor))\n",
    "        push!(colors[], frame)\n",
    "    end\n",
    "    ax.azimuth[] = 1.7pi + 0.3 * sin(2pi * frame / 120) # set the view angle of the axis\n",
    "    notify(points); notify(colors) # tell points and colors that their value has been updated\n",
    "    l.colorrange = (0, frame) # update plot attribute directly\n",
    "end"
   ]
  },
  {
   "cell_type": "code",
   "execution_count": 14,
   "metadata": {},
   "outputs": [
    {
     "ename": "UndefVarError",
     "evalue": "UndefVarError: Point2f not defined",
     "output_type": "error",
     "traceback": [
      "UndefVarError: Point2f not defined\n",
      "\n",
      "Stacktrace:\n",
      " [1] getproperty(x::Module, f::Symbol)\n",
      "   @ Base ./Base.jl:31\n",
      " [2] top-level scope\n",
      "   @ ~/projects/working/stock/binance_gui/test.ipynb:1"
     ]
    }
   ],
   "source": [
    "Makie.Point2f(1, 2)"
   ]
  },
  {
   "cell_type": "code",
   "execution_count": 13,
   "metadata": {},
   "outputs": [
    {
     "ename": "UndefVarError",
     "evalue": "UndefVarError: Point2f not defined",
     "output_type": "error",
     "traceback": [
      "UndefVarError: Point2f not defined\n",
      "\n",
      "Stacktrace:\n",
      " [1] top-level scope\n",
      "   @ ~/projects/working/stock/binance_gui/test.ipynb:3"
     ]
    }
   ],
   "source": [
    "linesegs = []\n",
    "for i in 1:4\n",
    "    push!(linesegs, Point2f(i, rand()))\n",
    "    push!(linesegs, Point2f(i, rand()))\n",
    "end\n",
    "\n",
    "linesegs1 = Observable(Point2f.(linesegs))\n",
    "fig = Figure()\n",
    "ax = Axis(fig[1, 1])\n",
    "linesegments!(ax, linesegs1, color=:blue)\n",
    "fig"
   ]
  },
  {
   "cell_type": "code",
   "execution_count": 30,
   "metadata": {},
   "outputs": [],
   "source": [
    "\n",
    "# fig = Figure()\n",
    "# ax = Axis(fig[1, 1])\n",
    "\n",
    "tt = 1\n",
    "while tt < 10\n",
    "    # empty!(ax)\n",
    "    linesegs = []\n",
    "    for i in 1:4\n",
    "        push!(linesegs, Point2f(i, rand()))\n",
    "        push!(linesegs, Point2f(i, rand()))\n",
    "    end\n",
    "    linesegs1[] = Point2f.(linesegs)\n",
    "    sleep(0.5)\n",
    "    tt += 1\n",
    "end"
   ]
  },
  {
   "cell_type": "code",
   "execution_count": 6,
   "metadata": {},
   "outputs": [
    {
     "data": {
      "text/plain": [
       "4-element Vector{Float64}:\n",
       " 0.8377526137057764\n",
       " 0.8949079816320731\n",
       " 0.3699002558187504\n",
       " 0.08459686094524677"
      ]
     },
     "metadata": {},
     "output_type": "display_data"
    }
   ],
   "source": [
    "lw[] = 10\n",
    "oy[] = rand(4)"
   ]
  },
  {
   "cell_type": "code",
   "execution_count": 7,
   "metadata": {},
   "outputs": [],
   "source": [
    "\n",
    "# This simple process is the basis of creating \n",
    "# both animations, as well as interactive apps with Makie.jl.\n",
    "# So in the following let's begin making a simple visualization\n",
    "# and interactive application of the double pendulum\n"
   ]
  },
  {
   "cell_type": "code",
   "execution_count": 8,
   "metadata": {},
   "outputs": [
    {
     "data": {
      "text/plain": [
       "progress_for_one_step! (generic function with 1 method)"
      ]
     },
     "metadata": {},
     "output_type": "display_data"
    }
   ],
   "source": [
    "# %% 1. Initialize simulation in a stepping manner\n",
    "# (this can also be done with a pre-run simulation)\n",
    "# the goal is to create a \"step\" function which\n",
    "# once called it progresses the data for one animation frame\n",
    "const L1 = 1.0\n",
    "const L2 = 0.9\n",
    "M = 2\n",
    "u0 = [π/3, 0, 3π/4, -2]\n",
    "dp = Systems.double_pendulum(u0; L1, L2)\n",
    "\n",
    "# Solve diffeq with constant step for smoother curves\n",
    "diffeq = (alg = Tsit5(), adaptive = false, dt = 0.005)\n",
    "\n",
    "integ = integrator(dp, u0; diffeq)\n",
    "\n",
    "function xycoords(state)\n",
    "    θ1 = state[1]\n",
    "    θ2 = state[3]\n",
    "    x1 = L1 * sin(θ1)\n",
    "    y1 = -L1 * cos(θ1)\n",
    "    x2 = x1 + L2 * sin(θ2)\n",
    "    y2 = y1 - L2 * cos(θ2)\n",
    "    return x1,x2,y1,y2\n",
    "end\n",
    "\n",
    "# `integ` is an integrator. `step!(integ)` progresses the integrator\n",
    "# for one step. `integ.u` is the system state at current step. \n",
    "# Then `xycoords` converts the states of the integrator\n",
    "# to their plottable format. So we can imagine something like \n",
    "function progress_for_one_step!(integ)\n",
    "    step!(integ)\n",
    "    u = integ.u\n",
    "    return xycoords(u)\n",
    "end\n",
    "# to be our stepping function that returns the new data.\n",
    "\n",
    "# If we had finite data instead of a forever-running animation, \n",
    "# then the \"stepping function\" would simply be to progress the index `i`\n",
    "# of the existing data one step forwards...\n"
   ]
  },
  {
   "cell_type": "code",
   "execution_count": 9,
   "metadata": {},
   "outputs": [
    {
     "data": {
      "text/plain": [
       "Observable{CircularBuffer{Point{2, Float32}}} with 0 listeners. Value:\n",
       "Point{2, Float32}[[1.5024215, 0.13639611], [1.5024215, 0.13639611], [1.5024215, 0.13639611], [1.5024215, 0.13639611], [1.5024215, 0.13639611], [1.5024215, 0.13639611], [1.5024215, 0.13639611], [1.5024215, 0.13639611], [1.5024215, 0.13639611], [1.5024215, 0.13639611]  …  [1.5024215, 0.13639611], [1.5024215, 0.13639611], [1.5024215, 0.13639611], [1.5024215, 0.13639611], [1.5024215, 0.13639611], [1.5024215, 0.13639611], [1.5024215, 0.13639611], [1.5024215, 0.13639611], [1.5024215, 0.13639611], [1.5024215, 0.13639611]]"
      ]
     },
     "metadata": {},
     "output_type": "display_data"
    }
   ],
   "source": [
    "# %% 2. Initialize the `Observable`s of the animation \n",
    "# You need to think of this in advance: what things will to be \n",
    "# animated, and what other plotting elements will be static? \n",
    "# Animated elements will need to become `Observable`s.\n",
    "\n",
    "# Here the animated elements will be: balls and rods making the\n",
    "# double pendulum, and the tail (trajectory) of the pendulum.\n",
    "x1,x2,y1,y2 = xycoords(u0)\n",
    "rod   = Observable([Point2f(0, 0), Point2f(x1, y1), Point2f(x2, y2)])\n",
    "balls = Observable([Point2f(x1, y1), Point2f(x2, y2)])\n",
    "# (Remember: the most optimal way to plot 2D things in Makie.jl is to\n",
    "# give it a vector of `Point2f`, the coordinates for the plot)\n",
    "\n",
    "# Here we have initialized two _different_ observables, because\n",
    "# rods and balls will be plotted in a different manner (lines/scatter)\n",
    "\n",
    "# Next is the observable for the tail\n",
    "tail = 300 # length of plotted trajectory, in units of `dt`\n",
    "# The circular buffer datastructure makes making stepping-based\n",
    "# animations very intuitive\n",
    "traj = CircularBuffer{Point2f}(tail)\n",
    "fill!(traj, Point2f(x2, y2)) # add correct values to the circular buffer\n",
    "traj = Observable(traj) # make it an observable\n"
   ]
  },
  {
   "cell_type": "code",
   "execution_count": 10,
   "metadata": {},
   "outputs": [
    {
     "data": {
      "text/plain": [
       "GLMakie.Screen(...)"
      ]
     },
     "metadata": {},
     "output_type": "display_data"
    }
   ],
   "source": [
    "# %% 3. Plot the `Observable`s and any other static elements\n",
    "# Before plotting we need to initialie a figure\n",
    "fig = Figure(); display(fig)\n"
   ]
  },
  {
   "cell_type": "code",
   "execution_count": 11,
   "metadata": {},
   "outputs": [
    {
     "data": {
      "text/plain": [
       "Axis with 1 plots:\n",
       " ┗━ Mesh{Tuple{GeometryBasics.Mesh{3, Float32, GeometryBasics.TriangleP{3, Float32, GeometryBasics.PointMeta{3, Float32, Point{3, Float32}, (:normals,), Tuple{Vec{3, Float32}}}}, GeometryBasics.FaceView{GeometryBasics.TriangleP{3, Float32, GeometryBasics.PointMeta{3, Float32, Point{3, Float32}, (:normals,), Tuple{Vec{3, Float32}}}}, GeometryBasics.PointMeta{3, Float32, Point{3, Float32}, (:normals,), Tuple{Vec{3, Float32}}}, GeometryBasics.NgonFace{3, GeometryBasics.OffsetInteger{-1, UInt32}}, StructArrays.StructVector{GeometryBasics.PointMeta{3, Float32, Point{3, Float32}, (:normals,), Tuple{Vec{3, Float32}}}, NamedTuple{(:position, :normals), Tuple{Vector{Point{3, Float32}}, Vector{Vec{3, Float32}}}}, Int64}, Vector{GeometryBasics.NgonFace{3, GeometryBasics.OffsetInteger{-1, UInt32}}}}}}}\n"
      ]
     },
     "metadata": {},
     "output_type": "display_data"
    }
   ],
   "source": [
    "# in my experience it leads to cleaner code if we first initialize \n",
    "# an axis and populate it accordingly.\n",
    "ax = Axis(fig[1,1])\n"
   ]
  },
  {
   "cell_type": "code",
   "execution_count": 12,
   "metadata": {},
   "outputs": [
    {
     "data": {
      "text/plain": [
       "Scatter{Tuple{Vector{Point{2, Float32}}}}"
      ]
     },
     "metadata": {},
     "output_type": "display_data"
    }
   ],
   "source": [
    "\n",
    "# Now we plot the observables _directly_! First the pendulum\n",
    "lines!(ax, rod; linewidth = 4, color = :purple)\n",
    "scatter!(ax, balls; marker = :circle, strokewidth = 2, \n",
    "    strokecolor = :purple,\n",
    "    color = :black, markersize = [8, 12]\n",
    ")\n"
   ]
  },
  {
   "cell_type": "code",
   "execution_count": 13,
   "metadata": {},
   "outputs": [
    {
     "data": {
      "text/plain": [
       "Lines{Tuple{CircularBuffer{Point{2, Float32}}}}"
      ]
     },
     "metadata": {},
     "output_type": "display_data"
    }
   ],
   "source": [
    "\n",
    "# then its trajectory, with a nice fadeout color\n",
    "c = to_color(:purple)\n",
    "tailcol = [RGBAf(c.r, c.g, c.b, (i/tail)^2) for i in 1:tail]\n",
    "lines!(ax, traj; linewidth = 3, color = tailcol)\n"
   ]
  },
  {
   "cell_type": "code",
   "execution_count": 14,
   "metadata": {},
   "outputs": [],
   "source": [
    "\n",
    "# We can also plot now any other static elements\n",
    "ax.title = \"double pendulum\"\n",
    "ax.aspect = DataAspect()\n",
    "l = 1.05(L1+L2)\n",
    "xlims!(ax, -l, l)\n",
    "ylims!(ax, -l, 0.5l)\n"
   ]
  },
  {
   "cell_type": "code",
   "execution_count": 15,
   "metadata": {},
   "outputs": [
    {
     "data": {
      "text/plain": [
       "animstep! (generic function with 1 method)"
      ]
     },
     "metadata": {},
     "output_type": "display_data"
    }
   ],
   "source": [
    "\n",
    "# %% 4. Create the \"animation stepping function\"\n",
    "# Using the functions of step 1, we now define a function\n",
    "# that updates the observables. Makie.jl understands observable\n",
    "# updates and directly reflects this on the plotted elements.\n",
    "function animstep!(integ, rod, balls, traj)\n",
    "    x1,x2,y1,y2 = progress_for_one_step!(integ)\n",
    "    rod[] = [Point2f(0, 0), Point2f(x1, y1), Point2f(x2, y2)]\n",
    "    balls[] = [Point2f(x1, y1), Point2f(x2, y2)]\n",
    "    push!(traj[], Point2f(x2, y2))\n",
    "    traj[] = traj[] # <- important! Updating in-place the value of an\n",
    "                    # `Observable` does not trigger an update!\n",
    "end\n"
   ]
  },
  {
   "cell_type": "code",
   "execution_count": 24,
   "metadata": {},
   "outputs": [],
   "source": [
    "animstep!(integ, rod, balls, traj);"
   ]
  },
  {
   "cell_type": "code",
   "execution_count": 16,
   "metadata": {},
   "outputs": [],
   "source": [
    "\n",
    "# %% 5. Test it\n",
    "for i in 1:1000\n",
    "    animstep!(integ, rod, balls, traj)\n",
    "    sleep(0.01)\n",
    "end\n"
   ]
  },
  {
   "cell_type": "code",
   "execution_count": 17,
   "metadata": {},
   "outputs": [
    {
     "data": {
      "text/plain": [
       "makefig (generic function with 1 method)"
      ]
     },
     "metadata": {},
     "output_type": "display_data"
    }
   ],
   "source": [
    "\n",
    "# cool it works. Let's wrap up the creation of the observables\n",
    "# and plots in a function (just to re-initialie everything)\n",
    "function makefig(u0)\n",
    "    dp = Systems.double_pendulum(u0; L1, L2)\n",
    "    integ = integrator(dp, u0; diffeq...)\n",
    "    x1,x2,y1,y2 = xycoords(u0)\n",
    "    rod   = Observable([Point2f(0, 0), Point2f(x1, y1), Point2f(x2, y2)])\n",
    "    balls = Observable([Point2f(x1, y1), Point2f(x2, y2)])\n",
    "    traj = CircularBuffer{Point2f}(tail)\n",
    "    fill!(traj, Point2f(x2, y2)) # add correct values to the circular buffer\n",
    "    traj = Observable(traj) # make it an observable\n",
    "    fig = Figure(); display(fig)\n",
    "    ax = Axis(fig[1,1])\n",
    "    lines!(ax, rod; linewidth = 4, color = :purple)\n",
    "    scatter!(ax, balls; marker = :circle, strokewidth = 2, \n",
    "        strokecolor = :purple,\n",
    "        color = :black, markersize = [8, 12]\n",
    "    )\n",
    "    lines!(ax, traj; linewidth = 3, color = tailcol)\n",
    "    ax.title = \"double pendulum\"\n",
    "    ax.aspect = DataAspect()\n",
    "    l = 1.05(L1+L2)\n",
    "    xlims!(ax, -l, l)\n",
    "    ylims!(ax, -l, 0.5l)\n",
    "    # also return the figure object, we'll ues it!\n",
    "    return fig, integ, rod, balls, traj\n",
    "end\n",
    "    \n"
   ]
  },
  {
   "cell_type": "code",
   "execution_count": 34,
   "metadata": {},
   "outputs": [
    {
     "name": "stderr",
     "output_type": "stream",
     "text": [
      "┌ Warning: Direct propagation of keyword arguments to DifferentialEquations.jl is deprecated.\n",
      "│ From now on pass any DiffEq-related keywords as a `NamedTuple` using the\n",
      "│ explicit keyword `diffeq` instead.\n",
      "└ @ DynamicalSystemsBase /home/czc/.julia/packages/DynamicalSystemsBase/nNJRo/src/core/continuous.jl:48\n"
     ]
    },
    {
     "data": {
      "text/plain": [
       "\"video.mp4\""
      ]
     },
     "metadata": {},
     "output_type": "display_data"
    }
   ],
   "source": [
    "# %% 6. Save animations to videos\n",
    "fig, integ, rod, balls, traj = makefig(u0)\n",
    "frames = 1:200\n",
    "record(fig, \"video.mp4\", frames; framerate = 60) do i # i = frame number\n",
    "    for j in 1:5 # step 5 times per frame\n",
    "        animstep!(integ, rod, balls, traj)\n",
    "    end\n",
    "    # any other manipulation of the figure here...\n",
    "end # for each step of this loop, a frame is recorded\n"
   ]
  },
  {
   "cell_type": "code",
   "execution_count": 44,
   "metadata": {},
   "outputs": [
    {
     "name": "stderr",
     "output_type": "stream",
     "text": [
      "┌ Warning: Direct propagation of keyword arguments to DifferentialEquations.jl is deprecated.\n",
      "│ From now on pass any DiffEq-related keywords as a `NamedTuple` using the\n",
      "│ explicit keyword `diffeq` instead.\n",
      "└ @ DynamicalSystemsBase /home/czc/.julia/packages/DynamicalSystemsBase/nNJRo/src/core/continuous.jl:48\n"
     ]
    },
    {
     "data": {
      "text/plain": [
       "ObserverFunction defined at /home/czc/projects/working/stock/binance_gui/test.ipynb:46 operating on Observable{Point{2, Float32}} with 1 listeners. Value:\n",
       "Float32[0.0, 0.0]"
      ]
     },
     "metadata": {},
     "output_type": "display_data"
    }
   ],
   "source": [
    "# %% 7. Interactive application\n",
    "# Makie.jl has tremendously strong capabilities for real-time\n",
    "# interactivity. To learn all of this takes time of course,\n",
    "# and you'll need to consult the online documentation.\n",
    "# Here we will do two interactions: 1) a play/stop button\n",
    "# 2) clicking on the screen and getting a new initial condition!\n",
    "\n",
    "fig, integ, rod, balls, traj = makefig(u0)\n",
    "# The run button is actually pretty simple, we'll add it below the plot\n",
    "run = Button(fig[2, 1]; label=\"run\", tellwidth=false)\n",
    "# This button will start/stop an animation. It's actually surprisingly\n",
    "# simple to do this. The magic code is:\n",
    "isrunning = Observable(false)\n",
    "on(run.clicks) do clicks\n",
    "    isrunning[] = !isrunning[]\n",
    "end\n",
    "on(run.clicks) do clicks\n",
    "    @async while isrunning[]\n",
    "        isopen(fig.scene) || break # ensures computations stop if closed window\n",
    "        animstep!(integ, rod, balls, traj)\n",
    "        sleep(0.001) # or `yield()` instead\n",
    "    end\n",
    "end\n",
    "\n",
    "# `on` an important Observables function when one starts\n",
    "# doing advanced stuff. It triggers a piece of code once an observable\n",
    "# triggers its update.\n",
    "\n",
    "# We'll add one more interactive feature which will trigger once\n",
    "# we click on the axis. Notice that by default makie performs a zoom\n",
    "# once one clicks on the axis, so we'll disable this\n",
    "ax = content(fig[1, 1])\n",
    "Makie.deactivate_interaction!(ax, :rectanglezoom)\n",
    "# and we'll add a new trigger using the `select_point` function:\n",
    "spoint = select_point(ax.scene)\n",
    "\n",
    "# Now we see that we can click on the screen and the `spoint` updates!\n",
    "\n",
    "# Okay, let's do something useful when it triggers\n",
    "function θωcoords(x, y)\n",
    "    θ = atan(y, x) + π / 2\n",
    "    return SVector(θ, 0, 0, 0)\n",
    "end\n",
    "\n",
    "on(spoint) do z\n",
    "    x, y = z\n",
    "    @show x, y\n",
    "    plot!(z)\n",
    "    u = θωcoords(x, y)\n",
    "    # reinit!(integ, u)\n",
    "    # # Reset tail and balls to new coordinates\n",
    "    # x1,x2,y1,y2 = xycoords(u)\n",
    "    # traj[] .= fill(Point2f(x2, y2), length(traj[]))\n",
    "    # traj[] = traj[]\n",
    "    # rod[] = [Point2f(0, 0), Point2f(x1, y1), Point2f(x2, y2)]\n",
    "    # balls[] = [Point2f(x1, y1), Point2f(x2, y2)]\n",
    "end\n",
    "\n",
    "# And that's the end of the tutorial!"
   ]
  },
  {
   "cell_type": "code",
   "execution_count": 5,
   "metadata": {},
   "outputs": [
    {
     "ename": "ErrorException",
     "evalue": "Metadata array needs to have same length as data.\n                    Found 4 data items, and 12 metadata items",
     "output_type": "error",
     "traceback": [
      "Metadata array needs to have same length as data.\n",
      "                    Found 4 data items, and 12 metadata items\n",
      "\n",
      "Stacktrace:\n",
      "  [1] error(s::String)\n",
      "    @ Base ./error.jl:35\n",
      "  [2] #meta#122\n",
      "    @ ~/.julia/packages/GeometryBasics/5Sb5M/src/metadata.jl:125 [inlined]\n",
      "  [3] pointmeta(mesh::GeometryBasics.Mesh{2, Float32, GeometryBasics.Ngon{2, Float32, 3, Point{2, Float32}}, GeometryBasics.SimpleFaceView{2, Float32, 3, GeometryBasics.OffsetInteger{-1, UInt32}, Point{2, Float32}, GeometryBasics.NgonFace{3, GeometryBasics.OffsetInteger{-1, UInt32}}}}; meta_data::Base.Pairs{Symbol, Vector{ColorTypes.RGBA{Float32}}, Tuple{Symbol}, NamedTuple{(:color,), Tuple{Vector{ColorTypes.RGBA{Float32}}}}})\n",
      "    @ GeometryBasics ~/.julia/packages/GeometryBasics/5Sb5M/src/meshes.jl:253\n",
      "  [4] (::GLMakie.var\"#238#241\")(mesh::GeometryBasics.Mesh{2, Float32, GeometryBasics.Ngon{2, Float32, 3, Point{2, Float32}}, GeometryBasics.SimpleFaceView{2, Float32, 3, GeometryBasics.OffsetInteger{-1, UInt32}, Point{2, Float32}, GeometryBasics.NgonFace{3, GeometryBasics.OffsetInteger{-1, UInt32}}}}, color::Vector{ColorTypes.RGBA{Float32}})\n",
      "    @ GLMakie ~/.julia/packages/GLMakie/K6iJk/src/drawing_primitives.jl:466\n",
      "  [5] #invokelatest#2\n",
      "    @ ./essentials.jl:729 [inlined]\n",
      "  [6] invokelatest\n",
      "    @ ./essentials.jl:726 [inlined]\n",
      "  [7] #15\n",
      "    @ ~/.julia/packages/Observables/ynr7h/src/Observables.jl:393 [inlined]\n",
      "  [8] (::Observables.var\"#callback#13\"{Observables.var\"#15#16\"{GLMakie.var\"#238#241\", Observable{GeometryBasics.Mesh{2, Float32, GeometryBasics.TriangleP{2, Float32, GeometryBasics.PointMeta{2, Float32, Point{2, Float32}, (:color,), Tuple{ColorTypes.RGBA{Float32}}}}, GeometryBasics.FaceView{GeometryBasics.TriangleP{2, Float32, GeometryBasics.PointMeta{2, Float32, Point{2, Float32}, (:color,), Tuple{ColorTypes.RGBA{Float32}}}}, GeometryBasics.PointMeta{2, Float32, Point{2, Float32}, (:color,), Tuple{ColorTypes.RGBA{Float32}}}, GeometryBasics.NgonFace{3, GeometryBasics.OffsetInteger{-1, UInt32}}, StructArrays.StructVector{GeometryBasics.PointMeta{2, Float32, Point{2, Float32}, (:color,), Tuple{ColorTypes.RGBA{Float32}}}, NamedTuple{(:position, :color), Tuple{Vector{Point{2, Float32}}, Vector{ColorTypes.RGBA{Float32}}}}, Int64}, Vector{GeometryBasics.NgonFace{3, GeometryBasics.OffsetInteger{-1, UInt32}}}}}}}, Tuple{Observable{GeometryBasics.Mesh{2, Float32, GeometryBasics.Ngon{2, Float32, 3, Point{2, Float32}}, GeometryBasics.SimpleFaceView{2, Float32, 3, GeometryBasics.OffsetInteger{-1, UInt32}, Point{2, Float32}, GeometryBasics.NgonFace{3, GeometryBasics.OffsetInteger{-1, UInt32}}}}}, Observable{Vector{ColorTypes.RGBA{Float32}}}}})(x::Any)\n",
      "    @ Observables ~/.julia/packages/Observables/ynr7h/src/Observables.jl:339\n",
      "  [9] #invokelatest#2\n",
      "    @ ./essentials.jl:729 [inlined]\n",
      " [10] invokelatest\n",
      "    @ ./essentials.jl:726 [inlined]\n",
      " [11] notify\n",
      "    @ ~/.julia/packages/Observables/ynr7h/src/Observables.jl:143 [inlined]\n",
      " [12] setindex!(observable::Observable, val::Any)\n",
      "    @ Observables ~/.julia/packages/Observables/ynr7h/src/Observables.jl:86\n",
      "--- the last 6 lines are repeated 1 more time ---\n",
      " [19] (::Observables.var\"#8#9\"{Observable{Any}})(x::Vector{ColorTypes.RGBA{Float32}})\n",
      "    @ Observables ~/.julia/packages/Observables/ynr7h/src/Observables.jl:120\n",
      " [20] #invokelatest#2\n",
      "    @ ./essentials.jl:729 [inlined]\n",
      " [21] invokelatest\n",
      "    @ ./essentials.jl:726 [inlined]\n",
      " [22] notify\n",
      "    @ ~/.julia/packages/Observables/ynr7h/src/Observables.jl:143 [inlined]\n",
      " [23] setindex!(observable::Observable, val::Any)\n",
      "    @ Observables ~/.julia/packages/Observables/ynr7h/src/Observables.jl:86\n",
      "--- the last 5 lines are repeated 1 more time ---\n",
      " [29] (::Observables.var\"#6#7\"{Observable{Any}})(x::Vector{ColorTypes.RGBA{Float32}})\n",
      "    @ Observables ~/.julia/packages/Observables/ynr7h/src/Observables.jl:114\n",
      " [30] #invokelatest#2\n",
      "    @ ./essentials.jl:729 [inlined]\n",
      " [31] invokelatest\n",
      "    @ ./essentials.jl:726 [inlined]\n",
      " [32] notify\n",
      "    @ ~/.julia/packages/Observables/ynr7h/src/Observables.jl:143 [inlined]\n",
      " [33] setindex!(observable::Observable, val::Any)\n",
      "    @ Observables ~/.julia/packages/Observables/ynr7h/src/Observables.jl:86\n",
      " [34] #15\n",
      "    @ ~/.julia/packages/Observables/ynr7h/src/Observables.jl:393 [inlined]\n",
      " [35] (::Observables.var\"#callback#13\"{Observables.var\"#15#16\"{Makie.var\"#558#561\"{Attributes}, Observable{Union{ColorTypes.RGBA{Float32}, Vector{ColorTypes.RGBA{Float32}}, Vector{Float32}, Makie.AbstractPattern, Matrix{ColorTypes.RGBA{Float32}}}}}, Tuple{Observable{Any}, Observable{Vector{Int64}}}})(x::Any)\n",
      "    @ Observables ~/.julia/packages/Observables/ynr7h/src/Observables.jl:339\n",
      "--- the last 6 lines are repeated 2 more times ---\n",
      " [48] #invokelatest#2\n",
      "    @ ./essentials.jl:729 [inlined]\n",
      " [49] invokelatest\n",
      "    @ ./essentials.jl:726 [inlined]\n",
      " [50] notify\n",
      "    @ ~/.julia/packages/Observables/ynr7h/src/Observables.jl:143 [inlined]\n",
      " [51] setindex!(observable::Observable, val::Any)\n",
      "    @ Observables ~/.julia/packages/Observables/ynr7h/src/Observables.jl:86\n",
      " [52] (::Makie.var\"#142#144\"{Attributes, Observable{Tuple{Vector{GeometryBasics.Mesh{2, Float32, GeometryBasics.Ngon{2, Float32, 3, Point{2, Float32}}, GeometryBasics.SimpleFaceView{2, Float32, 3, GeometryBasics.OffsetInteger{-1, UInt32}, Point{2, Float32}, GeometryBasics.NgonFace{3, GeometryBasics.OffsetInteger{-1, UInt32}}}}}}}, DataType})(kwargs::Tuple{}, args::Tuple{Vector{GeometryBasics.Mesh{2, Float32, GeometryBasics.Ngon{2, Float32, 3, Point{2, Float32}}, GeometryBasics.SimpleFaceView{2, Float32, 3, GeometryBasics.OffsetInteger{-1, UInt32}, Point{2, Float32}, GeometryBasics.NgonFace{3, GeometryBasics.OffsetInteger{-1, UInt32}}}}}})\n",
      "    @ Makie ~/.julia/packages/Makie/Ppzqh/src/interfaces.jl:333\n",
      " [53] (::Observables.var\"#callback#13\"{Makie.var\"#142#144\"{Attributes, Observable{Tuple{Vector{GeometryBasics.Mesh{2, Float32, GeometryBasics.Ngon{2, Float32, 3, Point{2, Float32}}, GeometryBasics.SimpleFaceView{2, Float32, 3, GeometryBasics.OffsetInteger{-1, UInt32}, Point{2, Float32}, GeometryBasics.NgonFace{3, GeometryBasics.OffsetInteger{-1, UInt32}}}}}}}, DataType}, Tuple{Observable{Tuple{}}, Observable{Tuple{Vector{GeometryBasics.Mesh{2, Float32, GeometryBasics.Ngon{2, Float32, 3, Point{2, Float32}}, GeometryBasics.SimpleFaceView{2, Float32, 3, GeometryBasics.OffsetInteger{-1, UInt32}, Point{2, Float32}, GeometryBasics.NgonFace{3, GeometryBasics.OffsetInteger{-1, UInt32}}}}}}}}})(x::Any)\n",
      "    @ Observables ~/.julia/packages/Observables/ynr7h/src/Observables.jl:339\n",
      "--- the last 24 lines are repeated 1 more time ---\n",
      " [78] #invokelatest#2\n",
      "    @ ./essentials.jl:729 [inlined]\n",
      " [79] invokelatest\n",
      "    @ ./essentials.jl:726 [inlined]\n",
      " [80] notify\n",
      "    @ ~/.julia/packages/Observables/ynr7h/src/Observables.jl:143 [inlined]\n",
      " [81] setindex!(observable::Observable, val::Any)\n",
      "    @ Observables ~/.julia/packages/Observables/ynr7h/src/Observables.jl:86\n",
      " [82] #15\n",
      "    @ ~/.julia/packages/Observables/ynr7h/src/Observables.jl:393 [inlined]\n",
      " [83] (::Observables.var\"#callback#13\"{Observables.var\"#15#16\"{typeof(tuple), Observable{Tuple{Vector{GeometryBasics.HyperRectangle{2, Float32}}}}}, Tuple{Observable{Vector{GeometryBasics.HyperRectangle{2, Float32}}}}})(x::Any)\n",
      "    @ Observables ~/.julia/packages/Observables/ynr7h/src/Observables.jl:339\n",
      " [84] #invokelatest#2\n",
      "    @ ./essentials.jl:729 [inlined]\n",
      " [85] invokelatest\n",
      "    @ ./essentials.jl:726 [inlined]\n",
      " [86] notify\n",
      "    @ ~/.julia/packages/Observables/ynr7h/src/Observables.jl:143 [inlined]\n",
      " [87] (::Makie.var\"#1687#1716\"{Menu, MakieCore.Text{Tuple{Vector{Point{2, Float32}}}}, Base.RefValue{Vector{Float32}}, Observable{Vector{ColorTypes.RGBA{Float32}}}, Observable{Vector{GeometryBasics.HyperRectangle{2, Float32}}}, Observable{Vector{Point{2, Float32}}}, Observable{Float64}})(#unused#::Vector{String}, pad::NTuple{4, Int64}, bbox::GeometryBasics.HyperRectangle{2, Float32})\n",
      "    @ Makie ~/.julia/packages/Makie/Ppzqh/src/makielayout/blocks/menu.jl:186\n",
      " [88] (::Observables.var\"#callback#13\"{Makie.var\"#1687#1716\"{Menu, MakieCore.Text{Tuple{Vector{Point{2, Float32}}}}, Base.RefValue{Vector{Float32}}, Observable{Vector{ColorTypes.RGBA{Float32}}}, Observable{Vector{GeometryBasics.HyperRectangle{2, Float32}}}, Observable{Vector{Point{2, Float32}}}, Observable{Float64}}, Tuple{Observable{Vector{String}}, Observable{Any}, Observable{GeometryBasics.HyperRectangle{2, Float32}}}})(x::Any)\n",
      "    @ Observables ~/.julia/packages/Observables/ynr7h/src/Observables.jl:339\n",
      " [89] #invokelatest#2\n",
      "    @ ./essentials.jl:729 [inlined]\n",
      " [90] invokelatest\n",
      "    @ ./essentials.jl:726 [inlined]\n",
      " [91] notify(observable::Observables.AbstractObservable)\n",
      "    @ Observables ~/.julia/packages/Observables/ynr7h/src/Observables.jl:143\n",
      " [92] initialize_block!(m::Menu; default::Nothing)\n",
      "    @ Makie ~/.julia/packages/Makie/Ppzqh/src/makielayout/blocks/menu.jl:188\n",
      " [93] initialize_block!(m::Menu)\n",
      "    @ Makie ~/.julia/packages/Makie/Ppzqh/src/makielayout/blocks/menu.jl:51\n",
      " [94] _block(::Type{Menu}, ::Figure; bbox::Nothing, kwargs::Base.Pairs{Symbol, Vector{String}, Tuple{Symbol}, NamedTuple{(:options,), Tuple{Vector{String}}}})\n",
      "    @ Makie ~/.julia/packages/Makie/Ppzqh/src/makielayout/blocks.jl:403\n",
      " [95] #_#1005\n",
      "    @ ~/.julia/packages/Makie/Ppzqh/src/makielayout/blocks.jl:279 [inlined]"
     ]
    }
   ],
   "source": [
    "using GLMakie\n",
    "fig = Figure()\n",
    "\n",
    "menu = Menu(fig, options = [\"viridis\", \"heat\", \"blues\"])\n",
    "\n",
    "funcs = [sqrt, x->x^2, sin, cos]\n",
    "\n",
    "menu2 = Menu(fig, options = zip([\"Square Root\", \"Square\", \"Sine\", \"Cosine\"], funcs))\n",
    "\n",
    "ax = Axis(fig[1, 1], ygridcolor=\"#65866b\",\n",
    "    xgridcolor=\"#65866b\", xgridstyle=:dash, ygridstyle=:dash)\n",
    "\n",
    "func = Observable{Any}(funcs[1])\n",
    "\n",
    "ys = lift(func) do f\n",
    "    f.(0:0.3:10)\n",
    "end\n",
    "scat = scatter!(ax, ys, markersize = 10px, color = ys)\n",
    "\n",
    "cb = Colorbar(fig[1, 2], scat)\n",
    "\n",
    "fig[1, 3] = vgrid!(\n",
    "    Label(fig, \"Colormap\", width = nothing),\n",
    "    menu,\n",
    "    Label(fig, \"Function\", width = nothing),\n",
    "    menu2;\n",
    "    tellheight = false, width = 200)\n",
    "\n",
    "on(menu.selection) do s\n",
    "    scat.colormap = s\n",
    "end\n",
    "\n",
    "on(menu2.selection) do s\n",
    "    func[] = s\n",
    "    autolimits!(ax)\n",
    "end\n",
    "\n",
    "# menu2.is_open = true\n",
    "\n",
    "fig\n",
    "\n"
   ]
  },
  {
   "cell_type": "code",
   "execution_count": 8,
   "metadata": {},
   "outputs": [
    {
     "data": {
      "text/plain": [
       "Textbox()"
      ]
     },
     "metadata": {},
     "output_type": "display_data"
    }
   ],
   "source": [
    "fig = Figure(); display(fig);\n",
    "\n",
    "leftTopPane = fig[1, 1] = GridLayout()\n",
    "leftBottomPane = fig[2, 1] = GridLayout()\n",
    "rightPane = fig[1:2, 2] = GridLayout()\n",
    "\n",
    "ax1 = Axis(leftTopPane[1, 1], ygridcolor=\"#65866b\",\n",
    "xgridcolor=\"#65866b\", xgridstyle=:dash, ygridstyle=:dash)\n",
    "ax2 = Axis(leftBottomPane[1, 1])\n",
    "\n",
    "# sld = Slider(leftBottomPane[2,1],range=-10:1:10,startvalue=0)\n",
    "\n",
    "btnOpen = Button(rightPane[1,1],label=\"Open a file...\")\n",
    "btnDo = Button(rightPane[3,1], label=\"Do Something!\")\n",
    "btnDoMore = Button(rightPane[4,1],label=\"Do Something Else!\")\n",
    "\n",
    "txtTest = Textbox(rightPane[2,1],stored_string=\"This is Text!\",tellwidth=false)"
   ]
  },
  {
   "cell_type": "code",
   "execution_count": 12,
   "metadata": {},
   "outputs": [],
   "source": [
    "\n",
    "tt = 2\n",
    "while tt < 10\n",
    "    fig = Figure()\n",
    "    display(fig)\n",
    "    ax1 = Axis(fig[1, 1], ygridcolor=\"#65866b\",\n",
    "        xgridcolor=\"#65866b\", xgridstyle=:dash, ygridstyle=:dash)\n",
    "    linesegments!(ax1, [3, 4])\n",
    "    fig\n",
    "    tt += 1\n",
    "end"
   ]
  },
  {
   "cell_type": "code",
   "execution_count": 14,
   "metadata": {},
   "outputs": [
    {
     "data": {
      "text/plain": [
       "Observable{Axis} with 0 listeners. Value:\n",
       "Axis (1 plots)"
      ]
     },
     "metadata": {},
     "output_type": "display_data"
    }
   ],
   "source": [
    "a = Observable(Axis(fig[1,1], ygridcolor=\"#65866b\",\n",
    "xgridcolor=\"#65866b\", xgridstyle=:dash, ygridstyle=:dash))"
   ]
  },
  {
   "cell_type": "code",
   "execution_count": 23,
   "metadata": {},
   "outputs": [],
   "source": [
    "linesegments!(a[], [3, 8])\n",
    "fig"
   ]
  },
  {
   "cell_type": "code",
   "execution_count": 2,
   "metadata": {},
   "outputs": [
    {
     "data": {
      "text/plain": [
       "ObserverFunction defined at /home/czc/projects/working/stock/binance_gui/test.ipynb:31 operating on Observable{Point{2, Float32}} with 1 listeners. Value:\n",
       "Float32[-5.9888887, -6.349445]"
      ]
     },
     "metadata": {},
     "output_type": "display_data"
    }
   ],
   "source": [
    "using GLMakie\n",
    "using Makie\n",
    "using GLMakie: GLFW\n",
    "using Makie.ColorTypes: RGBA, N0f8\n",
    "# TODO do not leak memory\n",
    "cursor1 = GLFW.CreateStandardCursor(GLFW.CROSSHAIR_CURSOR)\n",
    "\n",
    "img = fill(RGBA{N0f8}(0,0,0,0), 15, 15)\n",
    "img[8, :] .= RGBA(1.0, 0.0, 1.0, 1.0)\n",
    "img[:, 8] .= RGBA(1.0, 0.0, 1.0, 1.0)\n",
    "# img[1, 1] is upper left\n",
    "# img[1, end] is upper right\n",
    "\n",
    "img_ = collect(reinterpret(NTuple{4, UInt8}, img))\n",
    "hotspot = (8, 8)\n",
    "cursor2 = ccall((:glfwCreateCursor, GLFW.libglfw), GLFW.Cursor, (Ref{GLFW.GLFWImage}, Cint, Cint), img_, hotspot[1], hotspot[2])\n",
    "\n",
    "fig = Figure()\n",
    "ax = Axis(fig[1, 1], title = \"Demo\")\n",
    "ax.autolimitaspect = 1.0\n",
    "scatter!(ax, [(-5, -5), (5, 5)])\n",
    "screen = display(fig)\n",
    "window = GLMakie.to_native(screen)\n",
    "\n",
    "cursor_Fdata_obs = lift(events(fig).mouseposition) do mp\n",
    "    # `mp` is relative to the window, throw it away.\n",
    "    return mouseposition(ax.scene)\n",
    "end\n",
    "\n",
    "on(cursor_Fdata_obs) do cursor_Fdata\n",
    "    cursor_Fraster = Tuple(round.(Int, cursor_Fdata))\n",
    "    if iseven(sum(cursor_Fraster)) # checkboard pattern\n",
    "        GLFW.SetCursor(window, cursor1)\n",
    "    else\n",
    "        GLFW.SetCursor(window, cursor2)\n",
    "    end\n",
    "end"
   ]
  },
  {
   "cell_type": "code",
   "execution_count": 150,
   "metadata": {},
   "outputs": [],
   "source": [
    "using GLMakie\n",
    "\n",
    "data = rand(5)\n",
    "\n",
    "fig = Figure()\n",
    "ax1 = Axis(fig[1, 1], yaxisposition=:right)\n",
    "deactivate_interaction!(ax1, :rectanglezoom)\n",
    "lines!(ax1, data)\n",
    "mouse_pos = lift(events(ax1).mouseposition) do mp\n",
    "    mouseposition(ax1.scene)\n",
    "end\n",
    "\n",
    "mouse_pos_x = @lift $mouse_pos[1]\n",
    "mouse_pos_y = @lift $mouse_pos[2]\n",
    "vlines!(ax1, mouse_pos_x, color=:red, linestyle=:dash, linewidth=1)\n",
    "hlines!(ax1, mouse_pos_y, color=:red, linestyle=:dash, linewidth=1)\n",
    "\n",
    "ylims!(ax1, 0, 1)\n",
    "xlims!(ax1, 0, 6)\n",
    "\n",
    "mouse_pos_click = Observable([0.0, 0.0])\n",
    "mouse_pos_click_y = @lift $mouse_pos_click[2]\n",
    "mouse_pos_click_y_str = @lift string(round($mouse_pos_click_y, sigdigits=3))\n",
    "\n",
    "buy = hlines!(ax1, mouse_pos_click_y, color=:green, linestyle=:dash, linewidth=1)\n",
    "buy_text = text!(5, mouse_pos_click_y, text=mouse_pos_click_y_str)\n",
    "\n",
    "on(events(ax1).mousebutton) do event\n",
    "    if event.button == Mouse.left\n",
    "        if event.action == Mouse.press\n",
    "            mouse_pos_click[] = mouseposition(ax1.scene)\n",
    "        end\n",
    "    end\n",
    "    return Consume(false)\n",
    "end\n",
    "\n",
    "tt = Observable(\"nothing\")\n",
    "\n",
    "on(events(ax1).keyboardbutton) do event\n",
    "    if ispressed(fig, (Keyboard.left_control, Keyboard.l))\n",
    "        tt[] = \"long\"\n",
    "    elseif ispressed(fig, (Keyboard.left_control, Keyboard.s))\n",
    "        tt[] = \"short\"\n",
    "    end\n",
    "end\n",
    "\n",
    "fig"
   ]
  },
  {
   "cell_type": "code",
   "execution_count": 156,
   "metadata": {},
   "outputs": [
    {
     "data": {
      "text/plain": [
       "Set{Makie.Keyboard.Button}()"
      ]
     },
     "metadata": {},
     "output_type": "display_data"
    }
   ],
   "source": [
    "events(ax1).keyboardstate"
   ]
  },
  {
   "cell_type": "code",
   "execution_count": 147,
   "metadata": {},
   "outputs": [
    {
     "data": {
      "text/plain": [
       "ObserverFunction defined at /home/czc/projects/working/stock/binance_gui/test.ipynb:39 operating on Observable{Makie.KeyEvent} with 3 listeners. Value:\n",
       "Makie.KeyEvent(Makie.Keyboard.l, Makie.Keyboard.release)"
      ]
     },
     "metadata": {},
     "output_type": "display_data"
    }
   ],
   "source": [
    "t3"
   ]
  },
  {
   "cell_type": "code",
   "execution_count": 91,
   "metadata": {},
   "outputs": [
    {
     "data": {
      "text/plain": [
       "Axis with 5 plots:\n",
       " ┣━ Mesh{Tuple{GeometryBasics.Mesh{3, Float32, GeometryBasics.TriangleP{3, Float32, GeometryBasics.PointMeta{3, Float32, Point{3, Float32}, (:normals,), Tuple{Vec{3, Float32}}}}, GeometryBasics.FaceView{GeometryBasics.TriangleP{3, Float32, GeometryBasics.PointMeta{3, Float32, Point{3, Float32}, (:normals,), Tuple{Vec{3, Float32}}}}, GeometryBasics.PointMeta{3, Float32, Point{3, Float32}, (:normals,), Tuple{Vec{3, Float32}}}, GeometryBasics.NgonFace{3, GeometryBasics.OffsetInteger{-1, UInt32}}, StructArrays.StructVector{GeometryBasics.PointMeta{3, Float32, Point{3, Float32}, (:normals,), Tuple{Vec{3, Float32}}}, NamedTuple{(:position, :normals), Tuple{Vector{Point{3, Float32}}, Vector{Vec{3, Float32}}}}, Int64}, Vector{GeometryBasics.NgonFace{3, GeometryBasics.OffsetInteger{-1, UInt32}}}}}}}\n",
       " ┣━ Lines{Tuple{Vector{Point{2, Float32}}}}\n",
       " ┣━ Combined{Makie.vlines, Tuple{Float32}}\n",
       " ┣━ Combined{Makie.hlines, Tuple{Float32}}\n",
       " ┗━ MakieCore.Text{Tuple{Vector{Point{2, Float32}}}}\n"
      ]
     },
     "metadata": {},
     "output_type": "display_data"
    }
   ],
   "source": [
    "delete!(ax1, buy)"
   ]
  },
  {
   "cell_type": "code",
   "execution_count": 129,
   "metadata": {},
   "outputs": [],
   "source": [
    "using GLMakie\n",
    "\n",
    "colors = to_colormap(:cyclic_mrybm_35_75_c68_n256)\n",
    "idx = Observable(1)\n",
    "color = map(i -> colors[mod1(i, length(colors))], idx)\n",
    "points = Observable(Point2f[])\n",
    "\n",
    "scene = Scene(camera = campixel!)\n",
    "linesegments!(scene, points, color = color)\n",
    "scatter!(scene, points, color = :gray, strokecolor = color, strokewidth = 1)\n",
    "\n",
    "on(events(scene).mousebutton) do event\n",
    "    if event.button == Mouse.left && event.action == Mouse.press\n",
    "        mp = events(scene).mouseposition[]\n",
    "        push!(points[], mp, mp)\n",
    "        notify(points)\n",
    "    end\n",
    "end\n",
    "\n",
    "on(events(scene).mouseposition) do mp\n",
    "    mb = events(scene).mousebutton[]\n",
    "    if mb.button == Mouse.left && (mb.action == Mouse.press || mb.action == Mouse.repeat)\n",
    "        points[][end] = mp\n",
    "        notify(points)\n",
    "    end\n",
    "end\n",
    "\n",
    "on(events(scene).scroll) do (dx, dy)\n",
    "    idx[] = idx[] + sign(dy)\n",
    "end\n",
    "\n",
    "t4 = on(events(scene).keyboardbutton) do event\n",
    "    if event.action == Keyboard.press || event.action == Keyboard.repeat\n",
    "        length(points[]) > 1 || return nothing\n",
    "        if event.key == Keyboard.backspace\n",
    "            pop!(points[])\n",
    "            pop!(points[])\n",
    "            notify(points)\n",
    "        elseif event.key == Keyboard.delete\n",
    "            popfirst!(points[])\n",
    "            popfirst!(points[])\n",
    "            notify(points)\n",
    "        end\n",
    "    end\n",
    "    event.key\n",
    "end\n",
    "\n",
    "scene"
   ]
  },
  {
   "cell_type": "code",
   "execution_count": 132,
   "metadata": {},
   "outputs": [
    {
     "data": {
      "text/plain": [
       "false"
      ]
     },
     "metadata": {},
     "output_type": "display_data"
    }
   ],
   "source": [
    "t4== Keyboard.backspace"
   ]
  },
  {
   "cell_type": "code",
   "execution_count": 93,
   "metadata": {},
   "outputs": [
    {
     "ename": "ErrorException",
     "evalue": "Combined{Makie.hlines, Tuple{Float64}} not in scene!",
     "output_type": "error",
     "traceback": [
      "Combined{Makie.hlines, Tuple{Float64}} not in scene!\n",
      "\n",
      "Stacktrace:\n",
      " [1] error(s::String)\n",
      "   @ Base ./error.jl:35\n",
      " [2] delete!(scene::Scene, plot::Combined{Makie.hlines, Tuple{Float64}})\n",
      "   @ Makie ~/.julia/packages/Makie/Ppzqh/src/scenes.jl:425\n",
      " [3] delete!(ax::Axis, plot::Combined{Makie.hlines, Tuple{Float64}})\n",
      "   @ Makie ~/.julia/packages/Makie/Ppzqh/src/makielayout/blocks/axis.jl:1300\n",
      " [4] top-level scope\n",
      "   @ ~/projects/working/stock/binance_gui/test.ipynb:1"
     ]
    }
   ],
   "source": [
    "delete!(ax1, buy)\n",
    "delete!(ax1, buy_text)"
   ]
  },
  {
   "cell_type": "code",
   "execution_count": 65,
   "metadata": {},
   "outputs": [
    {
     "data": {
      "text/plain": [
       "Observable{Point{2, Float32}} with 2 listeners. Value:\n",
       "Float32[-0.88116574, 0.5840164]"
      ]
     },
     "metadata": {},
     "output_type": "display_data"
    }
   ],
   "source": [
    "mouse_pos"
   ]
  },
  {
   "cell_type": "code",
   "execution_count": 20,
   "metadata": {},
   "outputs": [
    {
     "data": {
      "text/plain": [
       "GLMakie.Screen(...)"
      ]
     },
     "metadata": {},
     "output_type": "display_data"
    }
   ],
   "source": [
    "\n",
    "function indicator(ax::Axis,ob)\n",
    "    register_interaction!(ax, :indicator) do event::MouseEvent, axis\n",
    "    if event.type === MouseEventTypes.over\n",
    "        ob[] = event.data\n",
    "    end\n",
    "    end\n",
    "end\n",
    "function indicator(grid::GridLayout,ob)\n",
    "    foreach(Axis,grid;recursive=true) do ax\n",
    "    indicator(ax,ob)\n",
    "    end\n",
    "end\n",
    "function indicator(grid::GridLayout)\n",
    "    ob = Observable(Point2f0(0.,0.))\n",
    "    indicator(grid,ob)\n",
    "    ob\n",
    "end\n",
    "function indicator(fig,args...; tellwidth=false, kwargs...)\n",
    "    Label(\n",
    "        fig,\n",
    "        lift(ind->\"x: $(ind[1])  y: $(ind[2])\",indicator(fig.layout)),\n",
    "        args...; tellwidth=tellwidth, kwargs...\n",
    "    )\n",
    "end\n",
    "\n",
    "plot_range_1 = range(0,1;length=1000)\n",
    "fig = Figure()\n",
    "ax1 = fig[1,1] = Axis(fig)\n",
    "l1 = lines!(ax1,plot_range_1,plot_range_1 .^ 2)\n",
    "txt= fig[2,:] = indicator(fig)\n",
    "display(fig)\n",
    "\n"
   ]
  },
  {
   "cell_type": "code",
   "execution_count": 157,
   "metadata": {},
   "outputs": [
    {
     "data": {
      "text/plain": [
       "Observable{Dict{String, Int64}} with 0 listeners. Value:\n",
       "Dict(\"a\" => 1)"
      ]
     },
     "metadata": {},
     "output_type": "display_data"
    }
   ],
   "source": [
    "cfg = Observable(Dict(\"a\"=>1))"
   ]
  },
  {
   "cell_type": "code",
   "execution_count": 169,
   "metadata": {},
   "outputs": [
    {
     "data": {
      "text/plain": [
       "15"
      ]
     },
     "metadata": {},
     "output_type": "display_data"
    }
   ],
   "source": []
  },
  {
   "cell_type": "code",
   "execution_count": 161,
   "metadata": {},
   "outputs": [
    {
     "data": {
      "text/plain": [
       "2"
      ]
     },
     "metadata": {},
     "output_type": "display_data"
    }
   ],
   "source": [
    "cfg[][\"b\"]=2"
   ]
  },
  {
   "cell_type": "code",
   "execution_count": 162,
   "metadata": {},
   "outputs": [
    {
     "data": {
      "text/plain": [
       "Dict{String, Int64} with 2 entries:\n",
       "  \"b\" => 2\n",
       "  \"a\" => 1"
      ]
     },
     "metadata": {},
     "output_type": "display_data"
    }
   ],
   "source": [
    "cfg[]"
   ]
  },
  {
   "cell_type": "code",
   "execution_count": 175,
   "metadata": {},
   "outputs": [
    {
     "data": {
      "text/plain": [
       "Observable{Int64} with 0 listeners. Value:\n",
       "16"
      ]
     },
     "metadata": {},
     "output_type": "display_data"
    }
   ],
   "source": [
    "t5 = @lift ($cfg)[\"a\"]"
   ]
  },
  {
   "cell_type": "code",
   "execution_count": 173,
   "metadata": {},
   "outputs": [
    {
     "data": {
      "text/plain": [
       "Observable{Int64} with 0 listeners. Value:\n",
       "15"
      ]
     },
     "metadata": {},
     "output_type": "display_data"
    }
   ],
   "source": [
    "cfg[][\"a\"]=16\n",
    "t5"
   ]
  }
 ],
 "metadata": {
  "kernelspec": {
   "display_name": "Julia 1.8.5",
   "language": "julia",
   "name": "julia-1.8"
  },
  "language_info": {
   "file_extension": ".jl",
   "mimetype": "application/julia",
   "name": "julia",
   "version": "1.8.5"
  },
  "orig_nbformat": 4
 },
 "nbformat": 4,
 "nbformat_minor": 2
}
